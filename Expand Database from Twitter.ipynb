{
 "cells": [
  {
   "cell_type": "code",
   "execution_count": 1,
   "metadata": {},
   "outputs": [
    {
     "name": "stderr",
     "output_type": "stream",
     "text": [
      "/anaconda3/envs/insight/lib/python3.7/site-packages/sklearn/utils/__init__.py:4: DeprecationWarning: Using or importing the ABCs from 'collections' instead of from 'collections.abc' is deprecated, and in 3.8 it will stop working\n",
      "  from collections import Sequence\n"
     ]
    }
   ],
   "source": [
    "from festivalTools import *"
   ]
  },
  {
   "cell_type": "markdown",
   "metadata": {},
   "source": [
    "## This is an upgrade that can allow more than one event from a city"
   ]
  },
  {
   "cell_type": "code",
   "execution_count": 6,
   "metadata": {},
   "outputs": [],
   "source": [
    "def find50KCityEvents(monthName = \"September\", festivalLabel = \"Festival\"):\n",
    "\n",
    "    cities = pd.read_excel('Data/worldcities.xlsx')\n",
    "    cities50K = cities.query('population > 50000')\n",
    "\n",
    "    cityNames = []\n",
    "    eventNames = []\n",
    "    days = []\n",
    "    for cityName in cities50K['city'].values:\n",
    "        events = getEventNamesAndRedundencies(cityName, monthName, festivalLabel)\n",
    "        if len(events) == 0:\n",
    "            continue\n",
    "        #find last redundant event\n",
    "        for index, event in enumerate(events):\n",
    "            if event[1] < 2:\n",
    "                break\n",
    "        \n",
    "        for i in range(index):\n",
    "            print(cityName + \", \" + events[i][0][0] + \", \" + monthName + \" \" + str(events[i][0][1]))\n",
    "            eventNames.append(events[i][0][0])\n",
    "            days.append(events[i][0][1])\n",
    "            cityNames.append(cityName)\n",
    "\n",
    "    return cityNames, eventNames, days"
   ]
  },
  {
   "cell_type": "code",
   "execution_count": 13,
   "metadata": {
    "scrolled": true
   },
   "outputs": [
    {
     "name": "stdout",
     "output_type": "stream",
     "text": [
      "East London, The London East Asia Film Festival, November 4\n",
      "East London, London East Asia Film Festival, November 4\n",
      "Cape Town, Festival, November 3\n",
      "Cape Town, Cape Town Fringe Buskers Festival, November 11\n",
      "Reached twitter limit, waiting 15 minutes\n",
      "Reached twitter limit, waiting 15 minutes\n",
      "Windhoek, Festival, November 3\n",
      "Hamilton, Louisville Soul Music Festival, November 9\n",
      "Dunedin, Craft Beer Festival, November 17\n",
      "Reached twitter limit, waiting 15 minutes\n",
      "David, Local Distillers Gin Festival, November 24\n",
      "Reached twitter limit, waiting 15 minutes\n",
      "St. Petersburg, Festival, November 9\n",
      "Reached twitter limit, waiting 15 minutes\n",
      "Reached twitter limit, waiting 15 minutes\n",
      "Bangkok, Ancient Kite Festival, November 23\n",
      "Reached twitter limit, waiting 15 minutes\n",
      "Reached twitter limit, waiting 15 minutes\n",
      "Dubai, Festival, November 9\n",
      "Dubai, On ONE AFRICA MUSIC FEST At Dubai Festival, November 16\n",
      "Reached twitter limit, waiting 15 minutes\n",
      "Sydney, Sydney Indie Film Festival, November 1\n",
      "Sydney, Palestinian Film Festival, November 4\n",
      "Hamilton, Louisville Soul Music Festival, November 9\n",
      "Reached twitter limit, waiting 15 minutes\n",
      "Reached twitter limit, waiting 15 minutes\n",
      "São Paulo, Brasil Rugby League Festival, November 26\n",
      "São Paulo, Festival, November 24\n",
      "São Paulo, Summer Break Festival, November 26\n",
      "Toronto, LGBT Film Festival, November 8\n",
      "Toronto, THRILLER Festival, November 1\n",
      "London, The London East Asia Film Festival, November 4\n",
      "London, London Korean Film Festival, November 25\n",
      "London, EFG London Jazz Festival, November 26\n",
      "London, London East Asia Film Festival, November 4\n",
      "London, Jewish Film Festival, November 21\n",
      "Hamilton, Louisville Soul Music Festival, November 9\n",
      "Reached twitter limit, waiting 15 minutes\n",
      "Reached twitter limit, waiting 15 minutes\n",
      "Reached twitter limit, waiting 15 minutes\n",
      "Berlin, Festival, November 26\n",
      "Hamburg, Creative Gaming Festival, November 26\n",
      "Reached twitter limit, waiting 15 minutes\n",
      "Reached twitter limit, waiting 15 minutes\n",
      "Oxford, Festival, November 2\n",
      "Oxford, Oxford Business Book Festival, November 7\n",
      "Nottingham, Nottingham Comedy Festival, November 3\n",
      "Nottingham, Nottingham Comedy Festival, November 2\n",
      "Nottingham, Nottingham Comedy Festival, November 4\n",
      "Reading, OakmontRegional Interclass Play Festival, November 16\n",
      "Birmingham, ESRC Festival, November 10\n",
      "Birmingham, Birmingham Film Festival, November 26\n",
      "Leeds, Compass Festival, November 26\n",
      "Exeter, Exeter Literary Festival, November 16\n",
      "Manchester, The Fall In The Brawl Festival, November 26\n",
      "Manchester, KINOFILM Festival, November 26\n",
      "London, The London East Asia Film Festival, November 4\n",
      "London, London Korean Film Festival, November 25\n",
      "London, EFG London Jazz Festival, November 26\n",
      "London, London East Asia Film Festival, November 4\n",
      "London, Jewish Film Festival, November 21\n",
      "Glasgow, Glasgow Whisky Festival, November 10\n",
      "York, International Puerto Rican Heritage Film Festival, November 14\n",
      "Chester, Chester Literature Festival, November 26\n",
      "Reached twitter limit, waiting 15 minutes\n",
      "Surabaya, Food Festival, November 11\n",
      "Jayapura, Tanah Merah Maritime Festival, November 26\n",
      "Reached twitter limit, waiting 15 minutes\n",
      "Reached twitter limit, waiting 15 minutes\n",
      "Florence, Seafood Festival, November 26\n",
      "Reached twitter limit, waiting 15 minutes\n",
      "Tokyo, Tokyo International Film Festival, November 25\n",
      "Kent, Body and Spirit Festival, November 4\n",
      "Reached twitter limit, waiting 15 minutes\n",
      "Charleston, Food Truck Festival, November 26\n",
      "Manchester, The Fall In The Brawl Festival, November 26\n",
      "Manchester, KINOFILM Festival, November 26\n",
      "Mission, Festival, November 26\n",
      "Reached twitter limit, waiting 15 minutes\n",
      "Temple, Yongning Temple Festival, November 14\n",
      "Houston, Astroworld Festival, November 17\n",
      "Cleveland, ReelAbilities Film Festival, November 6\n",
      "New York, International Puerto Rican Heritage Film Festival, November 14\n",
      "York, International Puerto Rican Heritage Film Festival, November 14\n",
      "Philadelphia, Festival, November 4\n",
      "Reading, OakmontRegional Interclass Play Festival, November 16\n",
      "Reached twitter limit, waiting 15 minutes\n",
      "Napa, NapaValley Film Festival, November 26\n",
      "Highland, Craft Beer Festival, November 17\n",
      "Birmingham, ESRC Festival, November 10\n",
      "Birmingham, Birmingham Film Festival, November 26\n",
      "Florence, Seafood Festival, November 26\n",
      "Reached twitter limit, waiting 15 minutes\n",
      "Chicago, Red Bull Music Festival, November 26\n",
      "Chicago, RedBullMusic Festival, November 26\n",
      "Chicago, RedBull_Music Festival, November 26\n",
      "Chicago, Chicago Humanities Festival, November 26\n",
      "Chicago, Chicago Music Festival, November 26\n",
      "Atlanta, Festival, November 19\n",
      "Boston, Festival, November 26\n",
      "Hamilton, Louisville Soul Music Festival, November 9\n",
      "Cleveland, ReelAbilities Film Festival, November 6\n",
      "Reached twitter limit, waiting 15 minutes\n",
      "Taylor, Red Bull Music Festival, November 26\n",
      "Taylor, Transilvania Jazz Festival, November 6\n",
      "Charleston, Food Truck Festival, November 26\n",
      "Florence, Seafood Festival, November 26\n",
      "Louisville, Louisville Soul Music Festival, November 9\n"
     ]
    }
   ],
   "source": [
    "monthNames = [\"November\"]\n",
    "\n",
    "allEventsDict = []\n",
    "for monthName in monthNames:\n",
    "        cities, events, days = find50KCityEvents(monthName, \"Festival\")\n",
    "        months = [monthName] * len(cities)\n",
    "        for city, event, month, day in zip(cities, events, months, days):\n",
    "            if (event != \"Festival\"):\n",
    "                allEventsDict.append({\"Event Name\": event, \"Location\": city, \"Month\": month, \"Day\": day})"
   ]
  }
 ],
 "metadata": {
  "kernelspec": {
   "display_name": "Python 3",
   "language": "python",
   "name": "python3"
  },
  "language_info": {
   "codemirror_mode": {
    "name": "ipython",
    "version": 3
   },
   "file_extension": ".py",
   "mimetype": "text/x-python",
   "name": "python",
   "nbconvert_exporter": "python",
   "pygments_lexer": "ipython3",
   "version": "3.7.0"
  }
 },
 "nbformat": 4,
 "nbformat_minor": 2
}
